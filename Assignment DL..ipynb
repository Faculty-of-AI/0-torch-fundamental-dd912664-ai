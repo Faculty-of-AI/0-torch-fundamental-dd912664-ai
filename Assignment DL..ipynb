{
 "cells": [
  {
   "cell_type": "code",
   "execution_count": 1,
   "id": "f9d22da0",
   "metadata": {},
   "outputs": [
    {
     "name": "stdout",
     "output_type": "stream",
     "text": [
      "PyTorch version: <module 'torch.version' from 'C:\\\\Users\\\\dell\\\\anaconda3\\\\Lib\\\\site-packages\\\\torch\\\\version.py'>\n",
      "CUDA available: False\n"
     ]
    }
   ],
   "source": [
    "import torch\n",
    "import numpy as np\n",
    "\n",
    "print(\"PyTorch version:\", torch.version)\n",
    "print(\"CUDA available:\", torch.cuda.is_available())"
   ]
  },
  {
   "cell_type": "code",
   "execution_count": 2,
   "id": "087a7f67",
   "metadata": {},
   "outputs": [
    {
     "name": "stdout",
     "output_type": "stream",
     "text": [
      "2) tensor_2 shape: torch.Size([7, 7])\n",
      "tensor([[0.8209, 0.7775, 0.8296, 0.1904, 0.3282, 0.5961, 0.9282],\n",
      "        [0.1197, 0.7674, 0.5356, 0.2731, 0.2326, 0.2510, 0.5755],\n",
      "        [0.9359, 0.2378, 0.0140, 0.3984, 0.4122, 0.6707, 0.9103],\n",
      "        [0.5315, 0.0507, 0.9545, 0.3833, 0.4905, 0.8948, 0.1439],\n",
      "        [0.8960, 0.7998, 0.0658, 0.1272, 0.6487, 0.1103, 0.5673],\n",
      "        [0.2815, 0.4231, 0.6257, 0.6969, 0.9848, 0.4975, 0.8291],\n",
      "        [0.9393, 0.6603, 0.7751, 0.7165, 0.3095, 0.7228, 0.8973]])\n"
     ]
    }
   ],
   "source": [
    "# 2\n",
    "tensor_2 = torch.rand((7,7))\n",
    "print(\"2) tensor_2 shape:\", tensor_2.shape)\n",
    "print(tensor_2)"
   ]
  },
  {
   "cell_type": "code",
   "execution_count": 3,
   "id": "75aadddf",
   "metadata": {},
   "outputs": [
    {
     "name": "stdout",
     "output_type": "stream",
     "text": [
      "3) Result shape: torch.Size([7, 1])\n",
      "tensor([[2.8501],\n",
      "        [1.8688],\n",
      "        [2.0625],\n",
      "        [2.3048],\n",
      "        [2.4377],\n",
      "        [2.9223],\n",
      "        [3.2989]])\n"
     ]
    }
   ],
   "source": [
    "# 3\n",
    "tensor_3_b = torch.rand((1,7))\n",
    "tensor_3_b_t = tensor_3_b.T\n",
    "matmul_3 = tensor_2 @ tensor_3_b_t\n",
    "print(\"3) Result shape:\", matmul_3.shape)\n",
    "print(matmul_3)"
   ]
  },
  {
   "cell_type": "code",
   "execution_count": 4,
   "id": "162ab11c",
   "metadata": {},
   "outputs": [
    {
     "name": "stdout",
     "output_type": "stream",
     "text": [
      "4) After manual seed(0):\n",
      "tensor([[0.4963, 0.7682, 0.0885, 0.1320, 0.3074, 0.6341, 0.4901],\n",
      "        [0.8964, 0.4556, 0.6323, 0.3489, 0.4017, 0.0223, 0.1689],\n",
      "        [0.2939, 0.5185, 0.6977, 0.8000, 0.1610, 0.2823, 0.6816],\n",
      "        [0.9152, 0.3971, 0.8742, 0.4194, 0.5529, 0.9527, 0.0362],\n",
      "        [0.1852, 0.3734, 0.3051, 0.9320, 0.1759, 0.2698, 0.1507],\n",
      "        [0.0317, 0.2081, 0.9298, 0.7231, 0.7423, 0.5263, 0.2437],\n",
      "        [0.5846, 0.0332, 0.1387, 0.2422, 0.8155, 0.7932, 0.2783]])\n",
      "tensor([[0.4820, 0.8198, 0.9971, 0.6984, 0.5675, 0.8352, 0.2056]])\n",
      "tensor([[1.8542],\n",
      "        [1.9611],\n",
      "        [2.2884],\n",
      "        [3.0481],\n",
      "        [1.7067],\n",
      "        [2.5290],\n",
      "        [1.7989]])\n"
     ]
    }
   ],
   "source": [
    "# 4\n",
    "torch.manual_seed(0)\n",
    "tensor_4 = torch.rand((7,7))\n",
    "tensor_4_b = torch.rand((1,7))\n",
    "tensor_4_b_t = tensor_4_b.T\n",
    "matmul_4 = tensor_4 @ tensor_4_b_t\n",
    "print(\"4) After manual seed(0):\")\n",
    "print(tensor_4)\n",
    "print(tensor_4_b)\n",
    "print(matmul_4)"
   ]
  },
  {
   "cell_type": "code",
   "execution_count": 5,
   "id": "70ada208",
   "metadata": {},
   "outputs": [
    {
     "name": "stdout",
     "output_type": "stream",
     "text": [
      "5) Equal after same seed: True\n",
      "CUDA not available.\n"
     ]
    }
   ],
   "source": [
    "# 5\n",
    "torch.manual_seed(0)\n",
    "cpu_rand1 = torch.rand(3)\n",
    "torch.manual_seed(0)\n",
    "cpu_rand2 = torch.rand(3)\n",
    "print(\"5) Equal after same seed:\", torch.equal(cpu_rand1, cpu_rand2))\n",
    "if torch.cuda.is_available():\n",
    "    torch.cuda.manual_seed_all(0)\n",
    "    cuda_rand1 = torch.cuda.FloatTensor(3).uniform_()\n",
    "    torch.cuda.manual_seed_all(0)\n",
    "    cuda_rand2 = torch.cuda.FloatTensor(3).uniform_()\n",
    "    print(\"CUDA equal after same seed:\", torch.equal(cuda_rand1.cpu(), cuda_rand2.cpu()))\n",
    "else:\n",
    "    print(\"CUDA not available.\")\n"
   ]
  },
  {
   "cell_type": "code",
   "execution_count": 6,
   "id": "7c4d4b43",
   "metadata": {},
   "outputs": [
    {
     "name": "stdout",
     "output_type": "stream",
     "text": [
      "6) device: cpu\n",
      "A: tensor([[0.1320, 0.3074],\n",
      "        [0.6341, 0.4901],\n",
      "        [0.8964, 0.4556]])\n",
      "B: tensor([[0.6323, 0.3489, 0.4017],\n",
      "        [0.0223, 0.1689, 0.2939]])\n"
     ]
    }
   ],
   "source": [
    "# 6\n",
    "device = torch.device(\"cuda\" if torch.cuda.is_available() else \"cpu\")\n",
    "A = torch.rand((3,2), device=device)\n",
    "B = torch.rand((2,3), device=device)\n",
    "print(\"6) device:\", device)\n",
    "print(\"A:\", A)\n",
    "print(\"B:\", B)"
   ]
  },
  {
   "cell_type": "code",
   "execution_count": 7,
   "id": "f5368f3c",
   "metadata": {},
   "outputs": [
    {
     "name": "stdout",
     "output_type": "stream",
     "text": [
      "7) matmul result: tensor([[0.0903, 0.0980, 0.1434],\n",
      "        [0.4119, 0.3040, 0.3988],\n",
      "        [0.5770, 0.3897, 0.4940]])\n"
     ]
    }
   ],
   "source": [
    "# 7\n",
    "matmul_7 = A @ B\n",
    "print(\"7) matmul result:\", matmul_7)"
   ]
  },
  {
   "cell_type": "code",
   "execution_count": 8,
   "id": "53be41d8",
   "metadata": {},
   "outputs": [
    {
     "name": "stdout",
     "output_type": "stream",
     "text": [
      "8) max: 0.5769999027252197 min: 0.09034714847803116\n"
     ]
    }
   ],
   "source": [
    "# 8\n",
    "print(\"8) max:\", matmul_7.max().item(), \"min:\", matmul_7.min().item())"
   ]
  },
  {
   "cell_type": "code",
   "execution_count": 9,
   "id": "ea376b27",
   "metadata": {},
   "outputs": [
    {
     "name": "stdout",
     "output_type": "stream",
     "text": [
      "9) argmax: (tensor(2), tensor(0)) argmin: (tensor(0), tensor(0))\n"
     ]
    }
   ],
   "source": [
    "# 9\n",
    "flat_argmax = torch.argmax(matmul_7)\n",
    "flat_argmin = torch.argmin(matmul_7)\n",
    "rows, cols = matmul_7.shape\n",
    "argmax_pos = (flat_argmax // cols, flat_argmax % cols)\n",
    "argmin_pos = (flat_argmin // cols, flat_argmin % cols)\n",
    "print(\"9) argmax:\", argmax_pos, \"argmin:\", argmin_pos)"
   ]
  },
  {
   "cell_type": "code",
   "execution_count": 10,
   "id": "0bb1a781",
   "metadata": {},
   "outputs": [
    {
     "name": "stdout",
     "output_type": "stream",
     "text": [
      "10) t10 shapes: torch.Size([1, 1, 1, 10]) -> torch.Size([1, 1, 10, 1]) -> torch.Size([10])\n",
      "t10_squeezed: tensor([0.8823, 0.9150, 0.3829, 0.9593, 0.3904, 0.6009, 0.2566, 0.7936, 0.9408,\n",
      "        0.1332])\n"
     ]
    }
   ],
   "source": [
    "# 10\n",
    "torch.manual_seed(42)\n",
    "t10 = torch.rand((1,1,1,10))\n",
    "t10_transposed = t10.permute(0,1,3,2)\n",
    "t10_squeezed = t10_transposed.squeeze()\n",
    "print(\"10) t10 shapes:\", t10.shape, \"->\", t10_transposed.shape, \"->\", t10_squeezed.shape)\n",
    "print(\"t10_squeezed:\", t10_squeezed)"
   ]
  },
  {
   "cell_type": "code",
   "execution_count": null,
   "id": "8ae01a73",
   "metadata": {},
   "outputs": [],
   "source": []
  }
 ],
 "metadata": {
  "kernelspec": {
   "display_name": "Python 3 (ipykernel)",
   "language": "python",
   "name": "python3"
  },
  "language_info": {
   "codemirror_mode": {
    "name": "ipython",
    "version": 3
   },
   "file_extension": ".py",
   "mimetype": "text/x-python",
   "name": "python",
   "nbconvert_exporter": "python",
   "pygments_lexer": "ipython3",
   "version": "3.11.5"
  }
 },
 "nbformat": 4,
 "nbformat_minor": 5
}
